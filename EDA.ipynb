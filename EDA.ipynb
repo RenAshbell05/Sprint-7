{
 "cells": [
  {
   "cell_type": "code",
   "execution_count": null,
   "id": "61af1d60",
   "metadata": {
    "vscode": {
     "languageId": "plaintext"
    }
   },
   "outputs": [],
   "source": [
    "import pandas as pd\n",
    "import plotly.express as px\n",
    "\n",
    "# Cargar dataset\n",
    "df = pd.read_csv('../vehicles_us.csv')\n",
    "\n",
    "# Vista rápida\n",
    "df.head()\n",
    "\n",
    "# Histograma básico\n",
    "fig = px.histogram(df, x=\"odometer\")\n",
    "fig.show()\n",
    "\n",
    "# Gráfico de dispersión\n",
    "fig2 = px.scatter(df, x=\"odometer\", y=\"price\")\n",
    "fig2.show()"
   ]
  }
 ],
 "metadata": {
  "language_info": {
   "name": "python"
  }
 },
 "nbformat": 4,
 "nbformat_minor": 5
}
